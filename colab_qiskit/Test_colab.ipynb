{
  "nbformat": 4,
  "nbformat_minor": 0,
  "metadata": {
    "colab": {
      "name": "Test_colab.ipynb",
      "provenance": []
    },
    "kernelspec": {
      "name": "python3",
      "display_name": "Python 3"
    }
  },
  "cells": [
    {
      "cell_type": "markdown",
      "metadata": {
        "id": "dnSKPT2ir7PA",
        "colab_type": "text"
      },
      "source": [
        "# Testando o uso de scripts em Python, substituindo (possivelmente) o Matlab\n",
        "\n",
        "---\n",
        "\n"
      ]
    },
    {
      "cell_type": "code",
      "metadata": {
        "id": "R507jBgO9w0h",
        "colab_type": "code",
        "outputId": "3917a40a-f6ad-458c-aee4-e8204b4d7d5b",
        "colab": {
          "base_uri": "https://localhost:8080/",
          "height": 34
        }
      },
      "source": [
        "texto = \"Iniciando com Python...\"\n",
        "print(texto) # aperte shift+enter para executar esse trecho de código"
      ],
      "execution_count": 0,
      "outputs": [
        {
          "output_type": "stream",
          "text": [
            "Iniciando com Python...\n"
          ],
          "name": "stdout"
        }
      ]
    },
    {
      "cell_type": "markdown",
      "metadata": {
        "id": "DAsW3K0Es31E",
        "colab_type": "text"
      },
      "source": [
        "Pode-se inserir textos entre as diferentes execuções dos scripts. Com LaTex também: assim $\\int x(t)\\,dt$, ou assim\n",
        "\n",
        "$$\\int_{x_0}^x f(x)\\,dx$$"
      ]
    },
    {
      "cell_type": "code",
      "metadata": {
        "id": "zJpV4KAJ-fpz",
        "colab_type": "code",
        "outputId": "497b2aec-8d57-4ec8-c8b0-4bb11507fa2b",
        "colab": {
          "base_uri": "https://localhost:8080/",
          "height": 269
        }
      },
      "source": [
        "# Number of sample points\n",
        "N = 600\n",
        "# sample spacing\n",
        "T = 1.0 / 800.0\n",
        "x = linspace(0.0, N*T, N)\n",
        "y = sin(50.0 * 2.0*np.pi*x) + 0.5*np.sin(80.0 * 2.0*np.pi*x)\n",
        "yf = fft(y)\n",
        "xf = linspace(0.0, 1.0/(2.0*T), N//2)\n",
        "\n",
        "plt.plot(xf, 2.0/N * np.abs(yf[0:N//2]))\n",
        "plt.\n",
        "plt.grid()\n",
        "plt.show() # aperte shift+enter para executar esse trecho de código"
      ],
      "execution_count": 0,
      "outputs": [
        {
          "output_type": "display_data",
          "data": {
            "image/png": "[encoded data removed]",
            "text/plain": [
              "<Figure size 432x288 with 1 Axes>"
            ]
          },
          "metadata": {
            "tags": []
          }
        }
      ]
    },
    {
      "cell_type": "code",
      "metadata": {
        "id": "wmZ_SyE9Y39B",
        "colab_type": "code",
        "outputId": "c7ea26ae-c68b-4e48-e4e0-f824ec0a96b5",
        "colab": {
          "base_uri": "https://localhost:8080/",
          "height": 51
        }
      },
      "source": [
        "# Solve the system of equations 3 * x0 + x1 = 9 and x0 + 2 * x1 = 8:\n",
        "a = array([[3,1], [1,2]])\n",
        "b = np.array([9,8])\n",
        "x = np.linalg.solve(a, b)\n",
        "print(x)\n",
        "# Check that the solution is correct:\n",
        "allclose(np.dot(a, x), b) "
      ],
      "execution_count": 0,
      "outputs": [
        {
          "output_type": "stream",
          "text": [
            "[2. 3.]\n"
          ],
          "name": "stdout"
        },
        {
          "output_type": "execute_result",
          "data": {
            "text/plain": [
              "True"
            ]
          },
          "metadata": {
            "tags": []
          },
          "execution_count": 56
        }
      ]
    },
    {
      "cell_type": "code",
      "metadata": {
        "id": "yyengRukciLd",
        "colab_type": "code",
        "outputId": "9c0720e7-4bc2-4754-8c85-311152e204ab",
        "colab": {
          "base_uri": "https://localhost:8080/",
          "height": 238
        }
      },
      "source": [
        "# pauli spin\n",
        "sigma_x = array([[0, 1],[1, 0]])\n",
        "sigma_y = array([[0, -1j],[1j, 0]])\n",
        "sigma_z = array([[1, 0],[0, -1]])\n",
        "\n",
        "# funcao\n",
        "def sigma_z__identity():\n",
        "  return mat(kron(sigma_z, identity(2)))\n",
        "\n",
        "print(sigma_z__identity())\n",
        "\n",
        "# funcao\n",
        "def sigma_x__sigma_z():\n",
        "  return mat(kron(sigma_x,sigma_z))\n",
        "\n",
        "print(sigma_x__sigma_z()) \n",
        "\n",
        "print('__Produto de matrizes__')\n",
        "print( sigma_z__identity() * sigma_x__sigma_z())"
      ],
      "execution_count": 0,
      "outputs": [
        {
          "output_type": "stream",
          "text": [
            "[[ 1.  0.  0.  0.]\n",
            " [ 0.  1.  0.  0.]\n",
            " [ 0.  0. -1. -0.]\n",
            " [ 0.  0. -0. -1.]]\n",
            "[[ 0  0  1  0]\n",
            " [ 0  0  0 -1]\n",
            " [ 1  0  0  0]\n",
            " [ 0 -1  0  0]]\n",
            "__Produto de matrizes__\n",
            "[[ 0.  0.  1.  0.]\n",
            " [ 0.  0.  0. -1.]\n",
            " [-1.  0.  0.  0.]\n",
            " [ 0.  1.  0.  0.]]\n"
          ],
          "name": "stdout"
        }
      ]
    },
    {
      "cell_type": "code",
      "metadata": {
        "id": "4jHlCPamfERo",
        "colab_type": "code",
        "outputId": "a0b24c56-60c3-496b-a152-a21ec4bd3c22",
        "colab": {
          "base_uri": "https://localhost:8080/",
          "height": 119
        }
      },
      "source": [
        "from numpy import linalg as LA\n",
        "A = np.array([[1,2,3],[3,2,1],[1,0,-1]])\n",
        "w, v = LA.eig(A)\n",
        "\n",
        "print('+++Autovalores++++')\n",
        "print(w)\n",
        "print('+++Autovetores++++')\n",
        "print(v)"
      ],
      "execution_count": 0,
      "outputs": [
        {
          "output_type": "stream",
          "text": [
            "+++Autovalores++++\n",
            "[ 4.31662479e+00 -2.31662479e+00  1.93041509e-17]\n",
            "+++Autovetores++++\n",
            "[[ 0.58428153  0.73595785  0.40824829]\n",
            " [ 0.80407569 -0.38198836 -0.81649658]\n",
            " [ 0.10989708 -0.55897311  0.40824829]]\n"
          ],
          "name": "stdout"
        }
      ]
    },
    {
      "cell_type": "code",
      "metadata": {
        "id": "hLLAqVSyn7Mf",
        "colab_type": "code",
        "cellView": "code",
        "outputId": "f2c7e7b3-69d2-4f13-9d93-e818b927b8c8",
        "colab": {
          "base_uri": "https://localhost:8080/",
          "height": 221
        }
      },
      "source": [
        "#@title Default title text\n",
        "from scipy.linalg import svd\n",
        "# define a matrix\n",
        "A = array([[1, 2], [3, 4], [5, 6]])\n",
        "print(A)\n",
        "# decomposicao SVD\n",
        "U, s, VT = svd(A)\n",
        "print('==========')\n",
        "print(U)\n",
        "print('---======--')\n",
        "print(s)\n",
        "print('ooo----ooo')\n",
        "print(VT)\n",
        "  "
      ],
      "execution_count": 0,
      "outputs": [
        {
          "output_type": "stream",
          "text": [
            "[[1 2]\n",
            " [3 4]\n",
            " [5 6]]\n",
            "==========\n",
            "[[-0.2298477   0.88346102  0.40824829]\n",
            " [-0.52474482  0.24078249 -0.81649658]\n",
            " [-0.81964194 -0.40189603  0.40824829]]\n",
            "---======--\n",
            "[9.52551809 0.51430058]\n",
            "ooo----ooo\n",
            "[[-0.61962948 -0.78489445]\n",
            " [-0.78489445  0.61962948]]\n"
          ],
          "name": "stdout"
        }
      ]
    },
    {
      "cell_type": "markdown",
      "metadata": {
        "id": "KIq89j-Ix6kE",
        "colab_type": "text"
      },
      "source": [
        "# Testando a biblioteca de computação quântica da IBM, chamada **Qiskit**"
      ]
    },
    {
      "cell_type": "code",
      "metadata": {
        "id": "02y5pEfRoj5Q",
        "colab_type": "code",
        "colab": {}
      },
      "source": [
        "!pip install qiskit"
      ],
      "execution_count": 0,
      "outputs": []
    },
    {
      "cell_type": "code",
      "metadata": {
        "id": "3VpNpNO9urMq",
        "colab_type": "code",
        "colab": {}
      },
      "source": [
        "from qiskit import *"
      ],
      "execution_count": 0,
      "outputs": []
    },
    {
      "cell_type": "code",
      "metadata": {
        "id": "lPeKIP3lva3d",
        "colab_type": "code",
        "colab": {}
      },
      "source": [
        "qr = QuantumRegister(2)"
      ],
      "execution_count": 0,
      "outputs": []
    },
    {
      "cell_type": "code",
      "metadata": {
        "id": "EWse8XI1wNKt",
        "colab_type": "code",
        "colab": {}
      },
      "source": [
        "cr = ClassicalRegister(2)"
      ],
      "execution_count": 0,
      "outputs": []
    },
    {
      "cell_type": "code",
      "metadata": {
        "id": "QpXtOWEBwU-F",
        "colab_type": "code",
        "colab": {}
      },
      "source": [
        "circuit = QuantumCircuit(qr,cr)"
      ],
      "execution_count": 0,
      "outputs": []
    },
    {
      "cell_type": "code",
      "metadata": {
        "id": "5DVWmZOSwjTa",
        "colab_type": "code",
        "colab": {}
      },
      "source": [
        "matplotlib inline"
      ],
      "execution_count": 0,
      "outputs": []
    },
    {
      "cell_type": "code",
      "metadata": {
        "id": "iTzQKQzewmbc",
        "colab_type": "code",
        "outputId": "f9e51b4b-a9ef-4fdc-b9f4-6d3a8ad4ead4",
        "colab": {
          "base_uri": "https://localhost:8080/",
          "height": 152
        }
      },
      "source": [
        "circuit.draw()"
      ],
      "execution_count": 0,
      "outputs": [
        {
          "output_type": "execute_result",
          "data": {
            "text/html": [
              "<pre style=\"word-wrap: normal;white-space: pre;background: #fff0;line-height: 1.1;font-family: &quot;Courier New&quot;,Courier,monospace\">         \n",
              "q1_0: |0>\n",
              "         \n",
              "q1_1: |0>\n",
              "         \n",
              " c1_0: 0 \n",
              "         \n",
              " c1_1: 0 \n",
              "         </pre>"
            ],
            "text/plain": [
              "<qiskit.visualization.text.TextDrawing at 0x7fc50e43bda0>"
            ]
          },
          "metadata": {
            "tags": []
          },
          "execution_count": 114
        }
      ]
    },
    {
      "cell_type": "code",
      "metadata": {
        "id": "YmXQJQIXwrxU",
        "colab_type": "code",
        "outputId": "fa759c64-c645-445b-c5e8-07a01e52c5ce",
        "colab": {
          "base_uri": "https://localhost:8080/",
          "height": 34
        }
      },
      "source": [
        "circuit.h(qr[0])"
      ],
      "execution_count": 0,
      "outputs": [
        {
          "output_type": "execute_result",
          "data": {
            "text/plain": [
              "<qiskit.circuit.instructionset.InstructionSet at 0x7fc50f2e70b8>"
            ]
          },
          "metadata": {
            "tags": []
          },
          "execution_count": 87
        }
      ]
    },
    {
      "cell_type": "code",
      "metadata": {
        "id": "-yz8M4JNw-bP",
        "colab_type": "code",
        "outputId": "273c6e39-85f5-4fb1-9d6d-cf5a1ba5ec7b",
        "colab": {
          "base_uri": "https://localhost:8080/",
          "height": 185
        }
      },
      "source": [
        "circuit.draw(output='mpl')"
      ],
      "execution_count": 0,
      "outputs": [
        {
          "output_type": "execute_result",
          "data": {
            "image/png": "[encoded data removed]",
            "text/plain": [
              "<Figure size 227.556x204.68 with 1 Axes>"
            ]
          },
          "metadata": {
            "tags": []
          },
          "execution_count": 90
        }
      ]
    },
    {
      "cell_type": "code",
      "metadata": {
        "id": "4iyHAiDbxLuE",
        "colab_type": "code",
        "outputId": "a0bd64de-2d0a-47a3-86da-18aecbe1c587",
        "colab": {
          "base_uri": "https://localhost:8080/",
          "height": 34
        }
      },
      "source": [
        "circuit.cx(qr[0],qr[1])"
      ],
      "execution_count": 0,
      "outputs": [
        {
          "output_type": "execute_result",
          "data": {
            "text/plain": [
              "<qiskit.circuit.instructionset.InstructionSet at 0x7fc50f163518>"
            ]
          },
          "metadata": {
            "tags": []
          },
          "execution_count": 91
        }
      ]
    },
    {
      "cell_type": "code",
      "metadata": {
        "id": "7HAkwsy3xe29",
        "colab_type": "code",
        "outputId": "2401b926-0f9c-47ff-9694-0a1dd66a8dfe",
        "colab": {
          "base_uri": "https://localhost:8080/",
          "height": 185
        }
      },
      "source": [
        "circuit.draw(output='mpl')"
      ],
      "execution_count": 0,
      "outputs": [
        {
          "output_type": "execute_result",
          "data": {
            "image/png": "[encoded data removed]",
            "text/plain": [
              "<Figure size 287.756x204.68 with 1 Axes>"
            ]
          },
          "metadata": {
            "tags": []
          },
          "execution_count": 92
        }
      ]
    },
    {
      "cell_type": "code",
      "metadata": {
        "id": "40nQGZ7Cxg78",
        "colab_type": "code",
        "outputId": "672eb56e-4bb3-4bf8-e2c3-5c8271c12e72",
        "colab": {
          "base_uri": "https://localhost:8080/",
          "height": 34
        }
      },
      "source": [
        "circuit.measure(qr,cr)"
      ],
      "execution_count": 0,
      "outputs": [
        {
          "output_type": "execute_result",
          "data": {
            "text/plain": [
              "<qiskit.circuit.instructionset.InstructionSet at 0x7fc50f0db860>"
            ]
          },
          "metadata": {
            "tags": []
          },
          "execution_count": 93
        }
      ]
    },
    {
      "cell_type": "code",
      "metadata": {
        "id": "jftrcPdKxpLd",
        "colab_type": "code",
        "outputId": "0f629cae-d17b-4a7f-d271-f28ad98040ee",
        "colab": {
          "base_uri": "https://localhost:8080/",
          "height": 185
        }
      },
      "source": [
        "circuit.draw(output='mpl')"
      ],
      "execution_count": 0,
      "outputs": [
        {
          "output_type": "execute_result",
          "data": {
            "image/png": "[encoded data removed]",
            "text/plain": [
              "<Figure size 408.156x204.68 with 1 Axes>"
            ]
          },
          "metadata": {
            "tags": []
          },
          "execution_count": 97
        }
      ]
    },
    {
      "cell_type": "code",
      "metadata": {
        "id": "W-lIz8lWxqU1",
        "colab_type": "code",
        "colab": {}
      },
      "source": [
        "simulator = Aer.get_backend('qasm_simulator')"
      ],
      "execution_count": 0,
      "outputs": []
    },
    {
      "cell_type": "code",
      "metadata": {
        "id": "dvq5I9yQyV7s",
        "colab_type": "code",
        "colab": {}
      },
      "source": [
        "result = execute(circuit, backend=simulator).result()"
      ],
      "execution_count": 0,
      "outputs": []
    },
    {
      "cell_type": "code",
      "metadata": {
        "id": "mWvZR8mJyejr",
        "colab_type": "code",
        "colab": {}
      },
      "source": [
        "from qiskit.tools.visualization import plot_histogram"
      ],
      "execution_count": 0,
      "outputs": []
    },
    {
      "cell_type": "code",
      "metadata": {
        "id": "eajGmBaRzVZz",
        "colab_type": "code",
        "outputId": "fc06f799-3a81-425a-f74a-9dbea6a62575",
        "colab": {
          "base_uri": "https://localhost:8080/",
          "height": 335
        }
      },
      "source": [
        "plot_histogram(result.get_counts(circuit))"
      ],
      "execution_count": 0,
      "outputs": [
        {
          "output_type": "execute_result",
          "data": {
            "image/png": "[encoded data removed]",
            "text/plain": [
              "<Figure size 504x360 with 1 Axes>"
            ]
          },
          "metadata": {
            "tags": []
          },
          "execution_count": 107
        }
      ]
    },
    {
      "cell_type": "code",
      "metadata": {
        "id": "l-Z1c4wZziBh",
        "colab_type": "code",
        "colab": {}
      },
      "source": [
        ""
      ],
      "execution_count": 0,
      "outputs": []
    }
  ]
}